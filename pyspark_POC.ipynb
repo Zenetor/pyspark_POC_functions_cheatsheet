{
 "cells": [
  {
   "cell_type": "markdown",
   "id": "a4b768a4-e7eb-4e20-b31e-38f38a1285a6",
   "metadata": {},
   "source": [
    "# POC - PySpark\n",
    "'''PySpark is an interface for Apache Spark in Python. It not only allows you to write Spark applications using Python APIs, \n",
    "but also provides the PySpark shell for interactively analyzing your data in a distributed environment. PySpark supports \n",
    "most of Spark’s features such as Spark SQL, DataFrame, Streaming, MLlib (Machine Learning) and Spark Core.'''\n",
    "## It`s great to use when we are dealing with huge amounts of data\n",
    "\n",
    "## This is a notebook containing the most useful functions for data manipulation, it`s based on https://towardsdatascience.com/beginners-guide-to-pyspark-bbe3b553b79f\n",
    "\n",
    "## In that example, we are manipulating a stock price dataset from kaggle using several pyspark functions\n",
    "\n",
    "## To download the dataset, please access https://www.kaggle.com/dinnymathew/usstockprices"
   ]
  },
  {
   "cell_type": "code",
   "execution_count": null,
   "id": "594577ed-296b-4a7b-a983-09a6386453d0",
   "metadata": {},
   "outputs": [],
   "source": [
    "from pyspark.sql import SparkSession\n",
    "from pyspark.sql.types import *\n",
    "import pyspark.sql.functions as f"
   ]
  },
  {
   "cell_type": "code",
   "execution_count": 45,
   "id": "5e2fb518-be60-4466-b6f1-150d7d366e5f",
   "metadata": {},
   "outputs": [],
   "source": [
    "# Initializating session\n",
    "spark = SparkSession.builder\\\n",
    "        .master(\"local[*]\")\\\n",
    "        .appName('PySpark_Tutorial')\\\n",
    "        .getOrCreate()"
   ]
  },
  {
   "cell_type": "code",
   "execution_count": 46,
   "id": "42619ebc-bc79-44a5-b99b-da17f12121c1",
   "metadata": {},
   "outputs": [
    {
     "name": "stdout",
     "output_type": "stream",
     "text": [
      "root\n",
      " |-- _c0: string (nullable = true)\n",
      " |-- symbol: string (nullable = true)\n",
      " |-- date: string (nullable = true)\n",
      " |-- open: string (nullable = true)\n",
      " |-- high: string (nullable = true)\n",
      " |-- low: string (nullable = true)\n",
      " |-- close: string (nullable = true)\n",
      " |-- volume: string (nullable = true)\n",
      " |-- adjusted: string (nullable = true)\n",
      " |-- market.cap: string (nullable = true)\n",
      " |-- sector: string (nullable = true)\n",
      " |-- industry: string (nullable = true)\n",
      " |-- exchange: string (nullable = true)\n",
      "\n"
     ]
    }
   ],
   "source": [
    "# Before structuring schema\n",
    "\n",
    "data = spark.read.csv(\n",
    "    'data/stocks_price_final.csv',\n",
    "    sep = ',',\n",
    "    header = True,\n",
    "    )\n",
    "\n",
    "data.printSchema()"
   ]
  },
  {
   "cell_type": "code",
   "execution_count": 70,
   "id": "57f4af0b-c19f-47e0-88b8-51839ce90a72",
   "metadata": {},
   "outputs": [
    {
     "name": "stdout",
     "output_type": "stream",
     "text": [
      "root\n",
      " |-- symbol: string (nullable = true)\n",
      " |-- date: date (nullable = true)\n",
      " |-- open: double (nullable = true)\n",
      " |-- high: double (nullable = true)\n",
      " |-- low: double (nullable = true)\n",
      " |-- close: double (nullable = true)\n",
      " |-- volume: integer (nullable = true)\n",
      " |-- adjusted: double (nullable = true)\n",
      " |-- market.cap: string (nullable = true)\n",
      " |-- sector: string (nullable = true)\n",
      " |-- industry: string (nullable = true)\n",
      " |-- exchange: string (nullable = true)\n",
      "\n"
     ]
    }
   ],
   "source": [
    "# Defining schema\n",
    "\n",
    "data_schema = [\n",
    "               StructField('_c0', IntegerType(), True),\n",
    "               StructField('symbol', StringType(), True),\n",
    "               StructField('date', DateType(), True),\n",
    "               StructField('open', DoubleType(), True),\n",
    "               StructField('high', DoubleType(), True),\n",
    "               StructField('low', DoubleType(), True),\n",
    "               StructField('close', DoubleType(), True),\n",
    "               StructField('volume', IntegerType(), True),\n",
    "               StructField('adjusted', DoubleType(), True),\n",
    "               StructField('market.cap', StringType(), True),\n",
    "               StructField('sector', StringType(), True),\n",
    "               StructField('industry', StringType(), True),\n",
    "               StructField('exchange', StringType(), True),\n",
    "            ]\n",
    "\n",
    "final_struc = StructType(fields = data_schema)\n",
    "\n",
    "data = spark.read.csv(\n",
    "    'data/stocks_price_final.csv',\n",
    "    sep = ',',\n",
    "    header = True,\n",
    "    schema = final_struc \n",
    "    )\n",
    "\n",
    "data = data.drop('_c0')\n",
    "\n",
    "data.printSchema()"
   ]
  },
  {
   "cell_type": "code",
   "execution_count": 71,
   "id": "bfca9347-6ae9-4714-a9e7-0ab480228286",
   "metadata": {},
   "outputs": [
    {
     "data": {
      "text/plain": [
       "StructType(List(StructField(symbol,StringType,true),StructField(date,DateType,true),StructField(open,DoubleType,true),StructField(high,DoubleType,true),StructField(low,DoubleType,true),StructField(close,DoubleType,true),StructField(volume,IntegerType,true),StructField(adjusted,DoubleType,true),StructField(market.cap,StringType,true),StructField(sector,StringType,true),StructField(industry,StringType,true),StructField(exchange,StringType,true)))"
      ]
     },
     "execution_count": 71,
     "metadata": {},
     "output_type": "execute_result"
    }
   ],
   "source": [
    "# Show schema\n",
    "data.schema"
   ]
  },
  {
   "cell_type": "code",
   "execution_count": 72,
   "id": "8d278942-8a46-40d1-b386-74f55fdd0981",
   "metadata": {},
   "outputs": [
    {
     "data": {
      "text/plain": [
       "[('symbol', 'string'),\n",
       " ('date', 'date'),\n",
       " ('open', 'double'),\n",
       " ('high', 'double'),\n",
       " ('low', 'double'),\n",
       " ('close', 'double'),\n",
       " ('volume', 'int'),\n",
       " ('adjusted', 'double'),\n",
       " ('market.cap', 'string'),\n",
       " ('sector', 'string'),\n",
       " ('industry', 'string'),\n",
       " ('exchange', 'string')]"
      ]
     },
     "execution_count": 72,
     "metadata": {},
     "output_type": "execute_result"
    }
   ],
   "source": [
    "# Show schema\n",
    "\n",
    "data.dtypes"
   ]
  },
  {
   "cell_type": "code",
   "execution_count": 73,
   "id": "228daf81-ea64-41d8-a8f2-26946f18bb21",
   "metadata": {},
   "outputs": [
    {
     "data": {
      "text/plain": [
       "[Row(symbol='TXG', date=datetime.date(2019, 9, 12), open=54.0, high=58.0, low=51.0, close=52.75, volume=7326300, adjusted=52.75, market.cap='$9.31B', sector='Capital Goods', industry='Biotechnology: Laboratory Analytical Instruments', exchange='NASDAQ'),\n",
       " Row(symbol='TXG', date=datetime.date(2019, 9, 13), open=52.75, high=54.355, low=49.150002, close=52.27, volume=1025200, adjusted=52.27, market.cap='$9.31B', sector='Capital Goods', industry='Biotechnology: Laboratory Analytical Instruments', exchange='NASDAQ'),\n",
       " Row(symbol='TXG', date=datetime.date(2019, 9, 16), open=52.450001, high=56.0, low=52.009998, close=55.200001, volume=269900, adjusted=55.200001, market.cap='$9.31B', sector='Capital Goods', industry='Biotechnology: Laboratory Analytical Instruments', exchange='NASDAQ'),\n",
       " Row(symbol='TXG', date=datetime.date(2019, 9, 17), open=56.209999, high=60.900002, low=55.423, close=56.779999, volume=602800, adjusted=56.779999, market.cap='$9.31B', sector='Capital Goods', industry='Biotechnology: Laboratory Analytical Instruments', exchange='NASDAQ')]"
      ]
     },
     "execution_count": 73,
     "metadata": {},
     "output_type": "execute_result"
    }
   ],
   "source": [
    "# Showing the first 4 rows\n",
    "\n",
    "data.head(4)"
   ]
  },
  {
   "cell_type": "code",
   "execution_count": 74,
   "id": "ae753163-0809-4322-b4be-45822836c670",
   "metadata": {},
   "outputs": [
    {
     "name": "stdout",
     "output_type": "stream",
     "text": [
      "+------+----------+---------+---------+---------+---------+-------+---------+----------+-------------+--------------------+--------+\n",
      "|symbol|      date|     open|     high|      low|    close| volume| adjusted|market.cap|       sector|            industry|exchange|\n",
      "+------+----------+---------+---------+---------+---------+-------+---------+----------+-------------+--------------------+--------+\n",
      "|   TXG|2019-09-12|     54.0|     58.0|     51.0|    52.75|7326300|    52.75|    $9.31B|Capital Goods|Biotechnology: La...|  NASDAQ|\n",
      "|   TXG|2019-09-13|    52.75|   54.355|49.150002|    52.27|1025200|    52.27|    $9.31B|Capital Goods|Biotechnology: La...|  NASDAQ|\n",
      "|   TXG|2019-09-16|52.450001|     56.0|52.009998|55.200001| 269900|55.200001|    $9.31B|Capital Goods|Biotechnology: La...|  NASDAQ|\n",
      "|   TXG|2019-09-17|56.209999|60.900002|   55.423|56.779999| 602800|56.779999|    $9.31B|Capital Goods|Biotechnology: La...|  NASDAQ|\n",
      "|   TXG|2019-09-18|56.849998|    62.27|55.650002|     62.0|1589600|     62.0|    $9.31B|Capital Goods|Biotechnology: La...|  NASDAQ|\n",
      "|   TXG|2019-09-19|62.810001|   63.375|61.029999|61.119999| 425200|61.119999|    $9.31B|Capital Goods|Biotechnology: La...|  NASDAQ|\n",
      "|   TXG|2019-09-20|61.709999|62.419998|    59.82|     60.5| 392000|     60.5|    $9.31B|Capital Goods|Biotechnology: La...|  NASDAQ|\n",
      "|   TXG|2019-09-23|60.220001|61.485001|59.939999|60.330002| 137200|60.330002|    $9.31B|Capital Goods|Biotechnology: La...|  NASDAQ|\n",
      "|   TXG|2019-09-24|     61.0|     61.0|     54.0|54.299999| 713800|54.299999|    $9.31B|Capital Goods|Biotechnology: La...|  NASDAQ|\n",
      "|   TXG|2019-09-25|54.459999|55.880001|   52.563|52.759998| 261200|52.759998|    $9.31B|Capital Goods|Biotechnology: La...|  NASDAQ|\n",
      "|   TXG|2019-09-26|52.779999|53.689999|46.619999|49.990002| 596300|49.990002|    $9.31B|Capital Goods|Biotechnology: La...|  NASDAQ|\n",
      "|   TXG|2019-09-27|51.130001|     55.0|50.700001|51.029999| 621300|51.029999|    $9.31B|Capital Goods|Biotechnology: La...|  NASDAQ|\n",
      "|   TXG|2019-09-30|51.049999|     52.0|    49.25|50.400002| 168900|50.400002|    $9.31B|Capital Goods|Biotechnology: La...|  NASDAQ|\n",
      "|   TXG|2019-10-01|50.509998|51.919998|     46.0|47.029999| 536300|47.029999|    $9.31B|Capital Goods|Biotechnology: La...|  NASDAQ|\n",
      "|   TXG|2019-10-02|46.779999|    47.23|45.110001|    46.07| 519600|    46.07|    $9.31B|Capital Goods|Biotechnology: La...|  NASDAQ|\n",
      "|   TXG|2019-10-03|    46.77|48.240002|    45.75|48.119999| 703900|48.119999|    $9.31B|Capital Goods|Biotechnology: La...|  NASDAQ|\n",
      "|   TXG|2019-10-04|     48.0|    53.34|    47.82|51.450001| 322400|51.450001|    $9.31B|Capital Goods|Biotechnology: La...|  NASDAQ|\n",
      "|   TXG|2019-10-07|52.099998|53.220001|49.029999|50.360001| 476600|50.360001|    $9.31B|Capital Goods|Biotechnology: La...|  NASDAQ|\n",
      "|   TXG|2019-10-08|     50.0|    51.27|     49.0|49.549999| 284100|49.549999|    $9.31B|Capital Goods|Biotechnology: La...|  NASDAQ|\n",
      "|   TXG|2019-10-09|49.630001|51.525002|49.575001|50.009998| 201100|50.009998|    $9.31B|Capital Goods|Biotechnology: La...|  NASDAQ|\n",
      "+------+----------+---------+---------+---------+---------+-------+---------+----------+-------------+--------------------+--------+\n",
      "only showing top 20 rows\n",
      "\n"
     ]
    }
   ],
   "source": [
    "# Showing the first rows\n",
    "\n",
    "data.show()"
   ]
  },
  {
   "cell_type": "code",
   "execution_count": 75,
   "id": "874d691c-fc6b-49b6-ad36-54a7ba1f3d44",
   "metadata": {},
   "outputs": [
    {
     "data": {
      "text/plain": [
       "[Row(symbol='TXG', date=datetime.date(2019, 9, 12), open=54.0, high=58.0, low=51.0, close=52.75, volume=7326300, adjusted=52.75, market.cap='$9.31B', sector='Capital Goods', industry='Biotechnology: Laboratory Analytical Instruments', exchange='NASDAQ'),\n",
       " Row(symbol='TXG', date=datetime.date(2019, 9, 13), open=52.75, high=54.355, low=49.150002, close=52.27, volume=1025200, adjusted=52.27, market.cap='$9.31B', sector='Capital Goods', industry='Biotechnology: Laboratory Analytical Instruments', exchange='NASDAQ'),\n",
       " Row(symbol='TXG', date=datetime.date(2019, 9, 16), open=52.450001, high=56.0, low=52.009998, close=55.200001, volume=269900, adjusted=55.200001, market.cap='$9.31B', sector='Capital Goods', industry='Biotechnology: Laboratory Analytical Instruments', exchange='NASDAQ'),\n",
       " Row(symbol='TXG', date=datetime.date(2019, 9, 17), open=56.209999, high=60.900002, low=55.423, close=56.779999, volume=602800, adjusted=56.779999, market.cap='$9.31B', sector='Capital Goods', industry='Biotechnology: Laboratory Analytical Instruments', exchange='NASDAQ')]"
      ]
     },
     "execution_count": 75,
     "metadata": {},
     "output_type": "execute_result"
    }
   ],
   "source": [
    "# Showing the first 4 rows\n",
    "\n",
    "data.take(4)"
   ]
  },
  {
   "cell_type": "code",
   "execution_count": 76,
   "id": "4f320e48-c427-41d4-abf1-eb056638a645",
   "metadata": {},
   "outputs": [
    {
     "data": {
      "text/plain": [
       "['symbol',\n",
       " 'date',\n",
       " 'open',\n",
       " 'high',\n",
       " 'low',\n",
       " 'close',\n",
       " 'volume',\n",
       " 'adjusted',\n",
       " 'market.cap',\n",
       " 'sector',\n",
       " 'industry',\n",
       " 'exchange']"
      ]
     },
     "execution_count": 76,
     "metadata": {},
     "output_type": "execute_result"
    }
   ],
   "source": [
    "# Showing columns\n",
    "\n",
    "data.columns"
   ]
  },
  {
   "cell_type": "code",
   "execution_count": 77,
   "id": "3fc1478b-d233-4a79-b3fc-f725885204cf",
   "metadata": {},
   "outputs": [
    {
     "name": "stderr",
     "output_type": "stream",
     "text": [
      "                                                                                \r"
     ]
    },
    {
     "data": {
      "text/plain": [
       "1729034"
      ]
     },
     "execution_count": 77,
     "metadata": {},
     "output_type": "execute_result"
    }
   ],
   "source": [
    "# Counting data\n",
    "\n",
    "data.count()"
   ]
  },
  {
   "cell_type": "code",
   "execution_count": 78,
   "id": "fb648b6d-fed1-4398-8def-e1d3eb532b9f",
   "metadata": {},
   "outputs": [
    {
     "name": "stdout",
     "output_type": "stream",
     "text": [
      "root\n",
      " |-- symbol: string (nullable = true)\n",
      " |-- date: date (nullable = true)\n",
      " |-- open: double (nullable = true)\n",
      " |-- high: double (nullable = true)\n",
      " |-- low: double (nullable = true)\n",
      " |-- close: double (nullable = true)\n",
      " |-- volume: integer (nullable = true)\n",
      " |-- adjusted: double (nullable = true)\n",
      " |-- market.cap: string (nullable = true)\n",
      " |-- sector: string (nullable = true)\n",
      " |-- industry: string (nullable = true)\n",
      " |-- exchange: string (nullable = true)\n",
      "\n"
     ]
    }
   ],
   "source": [
    "# Showing schema\n",
    "\n",
    "data.printSchema()"
   ]
  },
  {
   "cell_type": "code",
   "execution_count": 58,
   "id": "c88afd2a-23f0-4805-92a8-ae9e9198e70a",
   "metadata": {},
   "outputs": [
    {
     "name": "stdout",
     "output_type": "stream",
     "text": [
      "+------+----------+---------+---------+---------+---------+-------+---------+----------+-------------+--------------------+--------+\n",
      "|symbol|      date|     open|     high|      low|    close| volume| adjusted|market.cap|       sector|            industry|exchange|\n",
      "+------+----------+---------+---------+---------+---------+-------+---------+----------+-------------+--------------------+--------+\n",
      "|   TXG|2019-09-12|     54.0|     58.0|     51.0|    52.75|7326300|    52.75|    $9.31B|Capital Goods|Biotechnology: La...|  NASDAQ|\n",
      "|   TXG|2019-09-13|    52.75|   54.355|49.150002|    52.27|1025200|    52.27|    $9.31B|Capital Goods|Biotechnology: La...|  NASDAQ|\n",
      "|   TXG|2019-09-16|52.450001|     56.0|52.009998|55.200001| 269900|55.200001|    $9.31B|Capital Goods|Biotechnology: La...|  NASDAQ|\n",
      "|   TXG|2019-09-17|56.209999|60.900002|   55.423|56.779999| 602800|56.779999|    $9.31B|Capital Goods|Biotechnology: La...|  NASDAQ|\n",
      "|   TXG|2019-09-18|56.849998|    62.27|55.650002|     62.0|1589600|     62.0|    $9.31B|Capital Goods|Biotechnology: La...|  NASDAQ|\n",
      "+------+----------+---------+---------+---------+---------+-------+---------+----------+-------------+--------------------+--------+\n",
      "only showing top 5 rows\n",
      "\n"
     ]
    }
   ],
   "source": [
    "# Adding column\n",
    "\n",
    "data = data.withColumn('date', data.date)\n",
    "\n",
    "data.show(5)"
   ]
  },
  {
   "cell_type": "code",
   "execution_count": 59,
   "id": "cf9def28-b7c3-4c6b-aaec-4d85e4fea809",
   "metadata": {},
   "outputs": [
    {
     "name": "stdout",
     "output_type": "stream",
     "text": [
      "+------+----------+---------+---------+---------+---------+-------+---------+----------+-------------+--------------------+--------+\n",
      "|symbol|      date|     open|     high|      low|    close| volume| adjusted|market.cap|       sector|            industry|exchange|\n",
      "+------+----------+---------+---------+---------+---------+-------+---------+----------+-------------+--------------------+--------+\n",
      "|   TXG|2019-09-12|     54.0|     58.0|     51.0|    52.75|7326300|    52.75|    $9.31B|Capital Goods|Biotechnology: La...|  NASDAQ|\n",
      "|   TXG|2019-09-13|    52.75|   54.355|49.150002|    52.27|1025200|    52.27|    $9.31B|Capital Goods|Biotechnology: La...|  NASDAQ|\n",
      "|   TXG|2019-09-16|52.450001|     56.0|52.009998|55.200001| 269900|55.200001|    $9.31B|Capital Goods|Biotechnology: La...|  NASDAQ|\n",
      "|   TXG|2019-09-17|56.209999|60.900002|   55.423|56.779999| 602800|56.779999|    $9.31B|Capital Goods|Biotechnology: La...|  NASDAQ|\n",
      "|   TXG|2019-09-18|56.849998|    62.27|55.650002|     62.0|1589600|     62.0|    $9.31B|Capital Goods|Biotechnology: La...|  NASDAQ|\n",
      "+------+----------+---------+---------+---------+---------+-------+---------+----------+-------------+--------------------+--------+\n",
      "only showing top 5 rows\n",
      "\n"
     ]
    }
   ],
   "source": [
    "# Rename columnn\n",
    "\n",
    "#data = data.withColumnRenamed('date', 'data_changed')\n",
    "\n",
    "data.show(5)"
   ]
  },
  {
   "cell_type": "code",
   "execution_count": 60,
   "id": "6042b4fe-ad3e-4ff8-9333-a3ff5d5d9f54",
   "metadata": {},
   "outputs": [
    {
     "name": "stdout",
     "output_type": "stream",
     "text": [
      "+------+----------+---------+---------+---------+---------+-------+---------+----------+-------------+--------------------+--------+\n",
      "|symbol|      date|     open|     high|      low|    close| volume| adjusted|market.cap|       sector|            industry|exchange|\n",
      "+------+----------+---------+---------+---------+---------+-------+---------+----------+-------------+--------------------+--------+\n",
      "|   TXG|2019-09-12|     54.0|     58.0|     51.0|    52.75|7326300|    52.75|    $9.31B|Capital Goods|Biotechnology: La...|  NASDAQ|\n",
      "|   TXG|2019-09-13|    52.75|   54.355|49.150002|    52.27|1025200|    52.27|    $9.31B|Capital Goods|Biotechnology: La...|  NASDAQ|\n",
      "|   TXG|2019-09-16|52.450001|     56.0|52.009998|55.200001| 269900|55.200001|    $9.31B|Capital Goods|Biotechnology: La...|  NASDAQ|\n",
      "|   TXG|2019-09-17|56.209999|60.900002|   55.423|56.779999| 602800|56.779999|    $9.31B|Capital Goods|Biotechnology: La...|  NASDAQ|\n",
      "|   TXG|2019-09-18|56.849998|    62.27|55.650002|     62.0|1589600|     62.0|    $9.31B|Capital Goods|Biotechnology: La...|  NASDAQ|\n",
      "+------+----------+---------+---------+---------+---------+-------+---------+----------+-------------+--------------------+--------+\n",
      "only showing top 5 rows\n",
      "\n"
     ]
    }
   ],
   "source": [
    "# Deleting column\n",
    "\n",
    "#data = data.drop('data_changed')\n",
    "\n",
    "data.show(5)"
   ]
  },
  {
   "cell_type": "code",
   "execution_count": 61,
   "id": "e6d75482-f68f-4c3f-a042-6000acb67086",
   "metadata": {},
   "outputs": [
    {
     "name": "stderr",
     "output_type": "stream",
     "text": [
      "                                                                                \r"
     ]
    },
    {
     "data": {
      "text/plain": [
       "DataFrame[symbol: string, date: date, open: double, high: double, low: double, close: double, volume: int, adjusted: double, market.cap: string, sector: string, industry: string, exchange: string]"
      ]
     },
     "execution_count": 61,
     "metadata": {},
     "output_type": "execute_result"
    }
   ],
   "source": [
    "# Dealing with missing data\n",
    "\n",
    "# Remove Rows with Missing Values\n",
    "\n",
    "#data.na.drop()\n",
    "\n",
    "# Replacing Missing Values with Mean\n",
    "\n",
    "data.na.fill(data.select(f.mean(data['open'])).collect()[0][0])\n",
    "\n",
    "# Replacing Missing Values with new values\n",
    "\n",
    "#data.na.replace(old_value, new_vallue)"
   ]
  },
  {
   "cell_type": "markdown",
   "id": "5a22f2b1-109e-4328-9177-6227d4f1bf12",
   "metadata": {},
   "source": [
    "# Querying data"
   ]
  },
  {
   "cell_type": "code",
   "execution_count": 62,
   "id": "e76bb563-6cb2-4f1a-b5c5-7355e8327bdf",
   "metadata": {},
   "outputs": [
    {
     "name": "stdout",
     "output_type": "stream",
     "text": [
      "+-------------+\n",
      "|       sector|\n",
      "+-------------+\n",
      "|Capital Goods|\n",
      "|Capital Goods|\n",
      "|Capital Goods|\n",
      "|Capital Goods|\n",
      "|Capital Goods|\n",
      "+-------------+\n",
      "only showing top 5 rows\n",
      "\n",
      "+---------+---------+---------+\n",
      "|     open|    close| adjusted|\n",
      "+---------+---------+---------+\n",
      "|     54.0|    52.75|    52.75|\n",
      "|    52.75|    52.27|    52.27|\n",
      "|52.450001|55.200001|55.200001|\n",
      "|56.209999|56.779999|56.779999|\n",
      "|56.849998|     62.0|     62.0|\n",
      "+---------+---------+---------+\n",
      "only showing top 5 rows\n",
      "\n"
     ]
    }
   ],
   "source": [
    "# Select\n",
    "\n",
    "## Selecting Single Column\n",
    "\n",
    "data.select('sector').show(5)\n",
    "\n",
    "## Selecting Multiple columns\n",
    "\n",
    "data.select(['open', 'close', 'adjusted']).show(5)"
   ]
  },
  {
   "cell_type": "code",
   "execution_count": 63,
   "id": "f80c7b94-2463-4374-9d43-ef478bca063c",
   "metadata": {},
   "outputs": [
    {
     "name": "stdout",
     "output_type": "stream",
     "text": [
      "+------+----------+---------+---------+---------+---------+------+---------+----------+-------------+--------------------+--------+\n",
      "|symbol|      date|     open|     high|      low|    close|volume| adjusted|market.cap|       sector|            industry|exchange|\n",
      "+------+----------+---------+---------+---------+---------+------+---------+----------+-------------+--------------------+--------+\n",
      "|   TXG|2020-01-02|76.910004|77.989998|71.480003|72.830002|220200|72.830002|    $9.31B|Capital Goods|Biotechnology: La...|  NASDAQ|\n",
      "|   TXG|2020-01-03|71.519997|76.188004|70.580002|75.559998|288300|75.559998|    $9.31B|Capital Goods|Biotechnology: La...|  NASDAQ|\n",
      "|   TXG|2020-01-06|75.269997|77.349998|73.559998|75.550003|220600|75.550003|    $9.31B|Capital Goods|Biotechnology: La...|  NASDAQ|\n",
      "|   TXG|2020-01-07|     76.0|77.279999|    75.32|75.980003|182400|75.980003|    $9.31B|Capital Goods|Biotechnology: La...|  NASDAQ|\n",
      "|   TXG|2020-01-08|76.089996|76.949997|72.739998|74.839996|172100|74.839996|    $9.31B|Capital Goods|Biotechnology: La...|  NASDAQ|\n",
      "+------+----------+---------+---------+---------+---------+------+---------+----------+-------------+--------------------+--------+\n",
      "only showing top 5 rows\n",
      "\n"
     ]
    }
   ],
   "source": [
    "# Filtering\n",
    "\n",
    "from pyspark.sql.functions import col, lit\n",
    "\n",
    "data.filter( (col('date') >= lit('2020-01-01')) & (col('date') <= lit('2020-01-31')) ).show(5)\n"
   ]
  },
  {
   "cell_type": "code",
   "execution_count": 64,
   "id": "eba955a9-b34f-435d-bd96-01d7bb6e0c7c",
   "metadata": {},
   "outputs": [
    {
     "name": "stdout",
     "output_type": "stream",
     "text": [
      "+------+----------+----------+----------+----------+----------+------+----------+----------+-------------+--------------------+--------+\n",
      "|symbol|      date|      open|      high|       low|     close|volume|  adjusted|market.cap|       sector|            industry|exchange|\n",
      "+------+----------+----------+----------+----------+----------+------+----------+----------+-------------+--------------------+--------+\n",
      "|   TXG|2020-01-24| 95.459999|     101.0| 94.157997|100.790001|328100|100.790001|    $9.31B|Capital Goods|Biotechnology: La...|  NASDAQ|\n",
      "|   TXG|2020-01-27| 99.760002|104.892998| 97.019997|103.209999|334900|103.209999|    $9.31B|Capital Goods|Biotechnology: La...|  NASDAQ|\n",
      "|   TXG|2020-01-28|104.620003|108.269997|103.297997|106.620003|245400|106.620003|    $9.31B|Capital Goods|Biotechnology: La...|  NASDAQ|\n",
      "|  ABMD|2019-01-02|315.940002|320.709991|307.029999|309.959991|590000|309.959991|   $13.39B|  Health Care|Medical/Dental In...|  NASDAQ|\n",
      "|  ABMD|2019-01-03|    307.25| 311.73999|293.660004|302.290009|665300|302.290009|   $13.39B|  Health Care|Medical/Dental In...|  NASDAQ|\n",
      "|  ABMD|2019-01-04|305.309998|321.480011|304.980011|313.440002|624300|313.440002|   $13.39B|  Health Care|Medical/Dental In...|  NASDAQ|\n",
      "|  ABMD|2019-01-07|     313.5|     315.5|305.559998|314.799988|710600|314.799988|   $13.39B|  Health Care|Medical/Dental In...|  NASDAQ|\n",
      "|  ABMD|2019-01-08|318.450012|323.100006|312.220001|318.420013|570700|318.420013|   $13.39B|  Health Care|Medical/Dental In...|  NASDAQ|\n",
      "|  ABMD|2019-01-09| 324.73999|342.970001|322.100006|336.399994|623900|336.399994|   $13.39B|  Health Care|Medical/Dental In...|  NASDAQ|\n",
      "|  ABMD|2019-01-10|334.100006|340.869995|322.769989|335.130005|531100|335.130005|   $13.39B|  Health Care|Medical/Dental In...|  NASDAQ|\n",
      "|  ABMD|2019-01-11|332.769989|334.200012|320.519989|323.799988|545100|323.799988|   $13.39B|  Health Care|Medical/Dental In...|  NASDAQ|\n",
      "|  ABMD|2019-01-14|321.899994|     322.0|314.059998|    315.25|343400|    315.25|   $13.39B|  Health Care|Medical/Dental In...|  NASDAQ|\n",
      "|  ABMD|2019-01-15|316.619995|327.570007|316.619995|325.609985|358200|325.609985|   $13.39B|  Health Care|Medical/Dental In...|  NASDAQ|\n",
      "|  ABMD|2019-01-16|326.059998|332.929993|323.290009|324.130005|476900|324.130005|   $13.39B|  Health Care|Medical/Dental In...|  NASDAQ|\n",
      "|  ABMD|2019-01-17|324.059998|332.940002|324.059998|330.320007|305600|330.320007|   $13.39B|  Health Care|Medical/Dental In...|  NASDAQ|\n",
      "|  ABMD|2019-01-18|335.200012|337.160004|     326.5| 333.73999|459800| 333.73999|   $13.39B|  Health Care|Medical/Dental In...|  NASDAQ|\n",
      "|  ABMD|2019-01-22|333.549988|339.670013|330.850006|336.130005|669100|336.130005|   $13.39B|  Health Care|Medical/Dental In...|  NASDAQ|\n",
      "|  ABMD|2019-01-23|339.140015|344.970001|    332.75|336.980011|376100|336.980011|   $13.39B|  Health Care|Medical/Dental In...|  NASDAQ|\n",
      "|  ABMD|2019-01-24|     337.5|349.339996|334.950012|     348.5|734200|     348.5|   $13.39B|  Health Care|Medical/Dental In...|  NASDAQ|\n",
      "|  ABMD|2019-01-25| 349.98999|353.920013|346.459991|349.369995|416000|349.369995|   $13.39B|  Health Care|Medical/Dental In...|  NASDAQ|\n",
      "+------+----------+----------+----------+----------+----------+------+----------+----------+-------------+--------------------+--------+\n",
      "only showing top 20 rows\n",
      "\n"
     ]
    }
   ],
   "source": [
    "# Between\n",
    "\n",
    "## fetch the data where the adjusted value is between 100.0 and 500.0\n",
    "\n",
    "data.filter(data.adjusted.between(100.0, 500.0)).show()"
   ]
  },
  {
   "cell_type": "code",
   "execution_count": 65,
   "id": "ac4379b9-3091-447c-8af3-d00a36653fdb",
   "metadata": {},
   "outputs": [
    {
     "name": "stdout",
     "output_type": "stream",
     "text": [
      "+------+----------+---------+---------+---------+---------+-------+---------+----------+-------------+--------------------+--------+-----------------------------------------------+\n",
      "|symbol|      date|     open|     high|      low|    close| volume| adjusted|market.cap|       sector|            industry|exchange|CASE WHEN (adjusted >= 200.0) THEN 1 ELSE 0 END|\n",
      "+------+----------+---------+---------+---------+---------+-------+---------+----------+-------------+--------------------+--------+-----------------------------------------------+\n",
      "|   TXG|2019-09-12|     54.0|     58.0|     51.0|    52.75|7326300|    52.75|    $9.31B|Capital Goods|Biotechnology: La...|  NASDAQ|                                              0|\n",
      "|   TXG|2019-09-13|    52.75|   54.355|49.150002|    52.27|1025200|    52.27|    $9.31B|Capital Goods|Biotechnology: La...|  NASDAQ|                                              0|\n",
      "|   TXG|2019-09-16|52.450001|     56.0|52.009998|55.200001| 269900|55.200001|    $9.31B|Capital Goods|Biotechnology: La...|  NASDAQ|                                              0|\n",
      "|   TXG|2019-09-17|56.209999|60.900002|   55.423|56.779999| 602800|56.779999|    $9.31B|Capital Goods|Biotechnology: La...|  NASDAQ|                                              0|\n",
      "|   TXG|2019-09-18|56.849998|    62.27|55.650002|     62.0|1589600|     62.0|    $9.31B|Capital Goods|Biotechnology: La...|  NASDAQ|                                              0|\n",
      "+------+----------+---------+---------+---------+---------+-------+---------+----------+-------------+--------------------+--------+-----------------------------------------------+\n",
      "only showing top 5 rows\n",
      "\n"
     ]
    }
   ],
   "source": [
    "# When\n",
    "\n",
    "\n",
    "data.select(col(\"*\"), \n",
    "            f.when(data.adjusted >= 200.0, 1).otherwise(0)\n",
    "           ).show(5)"
   ]
  },
  {
   "cell_type": "code",
   "execution_count": 66,
   "id": "c7d2936a-467e-4615-a99e-53522aa18079",
   "metadata": {},
   "outputs": [
    {
     "name": "stderr",
     "output_type": "stream",
     "text": [
      "[Stage 50:>                                                         (0 + 8) / 8]\r"
     ]
    },
    {
     "name": "stdout",
     "output_type": "stream",
     "text": [
      "+--------------------+---------------------------+\n",
      "|              sector|Sector Starting with B or C|\n",
      "+--------------------+---------------------------+\n",
      "|         Health Care|                      false|\n",
      "|       Capital Goods|                       true|\n",
      "|Consumer Non-Dura...|                       true|\n",
      "|    Public Utilities|                      false|\n",
      "|   Consumer Durables|                       true|\n",
      "|             Finance|                      false|\n",
      "|      Transportation|                      false|\n",
      "|       Miscellaneous|                      false|\n",
      "|   Consumer Services|                       true|\n",
      "|              Energy|                      false|\n",
      "|    Basic Industries|                       true|\n",
      "|          Technology|                      false|\n",
      "+--------------------+---------------------------+\n",
      "\n"
     ]
    },
    {
     "name": "stderr",
     "output_type": "stream",
     "text": [
      "                                                                                \r"
     ]
    }
   ],
   "source": [
    "# Like \n",
    "\n",
    "data.select('sector', \n",
    "            data.sector.rlike('^[B,C]').alias('Sector Starting with B or C')\n",
    "            ).distinct().show()"
   ]
  },
  {
   "cell_type": "code",
   "execution_count": 67,
   "id": "5a059248-6c00-41fd-ac70-96f6a5ba1074",
   "metadata": {},
   "outputs": [
    {
     "name": "stderr",
     "output_type": "stream",
     "text": [
      "[Stage 53:>                                                         (0 + 8) / 8]\r"
     ]
    },
    {
     "name": "stdout",
     "output_type": "stream",
     "text": [
      "+--------------------+---------------------------+\n",
      "|              sector|Sector Starting with B or C|\n",
      "+--------------------+---------------------------+\n",
      "|         Health Care|                      false|\n",
      "|       Capital Goods|                       true|\n",
      "|Consumer Non-Dura...|                       true|\n",
      "|    Public Utilities|                      false|\n",
      "|   Consumer Durables|                       true|\n",
      "|             Finance|                      false|\n",
      "|      Transportation|                      false|\n",
      "|       Miscellaneous|                      false|\n",
      "|   Consumer Services|                       true|\n",
      "|              Energy|                      false|\n",
      "|    Basic Industries|                       true|\n",
      "|          Technology|                      false|\n",
      "+--------------------+---------------------------+\n",
      "\n"
     ]
    },
    {
     "name": "stderr",
     "output_type": "stream",
     "text": [
      "                                                                                \r"
     ]
    }
   ],
   "source": [
    "# Group by\n",
    "\n",
    "data.select('sector', \n",
    "            data.sector.rlike('^[B,C]').alias('Sector Starting with B or C')\n",
    "            ).distinct().show()"
   ]
  },
  {
   "cell_type": "code",
   "execution_count": 68,
   "id": "1b892cd9-65b1-4c19-9d8d-cc8ae5f76c20",
   "metadata": {},
   "outputs": [
    {
     "name": "stderr",
     "output_type": "stream",
     "text": [
      "[Stage 56:=======>                                                  (1 + 7) / 8]\r"
     ]
    },
    {
     "name": "stdout",
     "output_type": "stream",
     "text": [
      "+---------------------+----------+----------+---------------+---------------+------------------+---------------+---------------+------------------+------------------------+------------------------+------------------------+\n",
      "|sector               |From      |To        |Minimum Opening|Maximum Opening|Average Opening   |Minimum Closing|Maximum Closing|Average Closing   |Minimum Adjusted Closing|Maximum Adjusted Closing|Average Adjusted Closing|\n",
      "+---------------------+----------+----------+---------------+---------------+------------------+---------------+---------------+------------------+------------------------+------------------------+------------------------+\n",
      "|Miscellaneous        |2019-01-02|2020-01-31|0.16           |690.0          |51.51619596530091 |0.16           |691.099976     |51.54953412269035 |0.16                    |691.099976              |51.210507338518944      |\n",
      "|Health Care          |2019-01-02|2020-01-31|0.072          |186000.0       |146.7756197567625 |0.071          |187000.0       |145.63974140826113|0.071                   |187000.0                |145.50092663131542      |\n",
      "|Public Utilities     |2019-01-02|2020-01-31|0.62           |269.459991     |36.6710418271084  |0.66           |269.929993     |36.68433434934582 |0.66                    |267.056549              |35.55794068386672       |\n",
      "|Energy               |2019-01-02|2020-01-31|0.13           |905.0          |27.695591382025942|0.13           |901.039978     |27.676750848215494|0.13                    |879.057007              |26.67510896754191       |\n",
      "|Consumer Non-Durables|2019-01-02|2020-01-31|0.22           |441.190002     |44.687031798374335|0.22           |441.26001      |44.69028854823987 |0.22                    |441.26001               |44.00786604732128       |\n",
      "|Finance              |2019-01-02|2020-01-31|0.284          |1199.030029    |40.30497973017921 |0.27           |1196.22998     |40.33061743018029 |0.27                    |1196.22998              |39.414088188549265      |\n",
      "|Basic Industries     |2019-01-02|2020-01-31|0.277          |1.60168176E8   |334814.23540859646|0.272          |1.58376592E8   |334289.2550689392 |0.272                   |1.57249392E8            |331916.39261538134      |\n",
      "|Capital Goods        |2019-01-02|2020-01-31|0.21           |4025.0         |61.47928347274464 |0.22           |4030.0         |61.526343209089816|-1.022682               |4030.0                  |60.79992564173734       |\n",
      "|Technology           |2019-01-02|2020-01-31|0.14           |2704.0         |49.63989857764492 |0.13           |2736.0         |49.64697306066013 |0.13                    |2736.0                  |49.271465831557926      |\n",
      "|Consumer Services    |2019-01-02|2020-01-31|0.21           |15437.5        |58.505705124586655|0.201          |19843.75       |58.49787065225789 |0.201                   |19843.75                |57.569266263880905      |\n",
      "|Consumer Durables    |2019-01-02|2020-01-31|0.32           |106250.0       |439.96307151506295|0.31           |103906.25      |436.78385305589023|0.31                    |103906.25               |436.1655366019182       |\n",
      "|Transportation       |2019-01-02|2020-01-31|0.61           |268.190002     |39.51409811152554 |0.63           |269.630005     |39.5282976100228  |0.63                    |267.881714              |38.86532091563168       |\n",
      "+---------------------+----------+----------+---------------+---------------+------------------+---------------+---------------+------------------+------------------------+------------------------+------------------------+\n",
      "\n"
     ]
    },
    {
     "name": "stderr",
     "output_type": "stream",
     "text": [
      "                                                                                \r"
     ]
    }
   ],
   "source": [
    "# Aggregation\n",
    "\n",
    "data.filter( (col('date') >= lit('2019-01-02')) & (col('date') <= lit('2020-01-31')) )\\\n",
    "    .groupBy(\"sector\") \\\n",
    "    .agg(f.min(\"date\").alias(\"From\"), \n",
    "         f.max(\"date\").alias(\"To\"), \n",
    "         \n",
    "         f.min(\"open\").alias(\"Minimum Opening\"),\n",
    "         f.max(\"open\").alias(\"Maximum Opening\"), \n",
    "         f.avg(\"open\").alias(\"Average Opening\"), \n",
    "\n",
    "         f.min(\"close\").alias(\"Minimum Closing\"), \n",
    "         f.max(\"close\").alias(\"Maximum Closing\"), \n",
    "         f.avg(\"close\").alias(\"Average Closing\"), \n",
    "\n",
    "         f.min(\"adjusted\").alias(\"Minimum Adjusted Closing\"), \n",
    "         f.max(\"adjusted\").alias(\"Maximum Adjusted Closing\"), \n",
    "         f.avg(\"adjusted\").alias(\"Average Adjusted Closing\"), \n",
    "\n",
    "      ).show(truncate=False)"
   ]
  },
  {
   "cell_type": "code",
   "execution_count": 69,
   "id": "60305dcc-ad50-42d4-ae38-cf64e22299ba",
   "metadata": {},
   "outputs": [
    {
     "data": {
      "text/plain": [
       "['symbol',\n",
       " 'date',\n",
       " 'open',\n",
       " 'high',\n",
       " 'low',\n",
       " 'close',\n",
       " 'volume',\n",
       " 'adjusted',\n",
       " 'market.cap',\n",
       " 'sector',\n",
       " 'industry',\n",
       " 'exchange']"
      ]
     },
     "execution_count": 69,
     "metadata": {},
     "output_type": "execute_result"
    }
   ],
   "source": [
    "data.columns"
   ]
  }
 ],
 "metadata": {
  "kernelspec": {
   "display_name": "Python 3 (ipykernel)",
   "language": "python",
   "name": "python3"
  },
  "language_info": {
   "codemirror_mode": {
    "name": "ipython",
    "version": 3
   },
   "file_extension": ".py",
   "mimetype": "text/x-python",
   "name": "python",
   "nbconvert_exporter": "python",
   "pygments_lexer": "ipython3",
   "version": "3.9.7"
  }
 },
 "nbformat": 4,
 "nbformat_minor": 5
}
